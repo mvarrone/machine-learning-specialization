{
 "cells": [
  {
   "cell_type": "markdown",
   "metadata": {},
   "source": [
    "## 2. Vectorized implementation"
   ]
  },
  {
   "cell_type": "code",
   "execution_count": 1,
   "metadata": {},
   "outputs": [],
   "source": [
    "import numpy as np\n",
    "import time"
   ]
  },
  {
   "cell_type": "code",
   "execution_count": 2,
   "metadata": {},
   "outputs": [],
   "source": [
    "def g(z):\n",
    "    \"\"\"\n",
    "    Compute the sigmoid of z\n",
    "\n",
    "    Parameters\n",
    "    ----------\n",
    "    z : array_like\n",
    "        A scalar or numpy array of any size.\n",
    "\n",
    "    Returns\n",
    "    -------\n",
    "     g : array_like\n",
    "         sigmoid(z)\n",
    "    \"\"\"\n",
    "    z = np.clip( z, -500, 500 )           # protect against overflow\n",
    "    g = 1.0/(1.0+np.exp(-z))\n",
    "\n",
    "    return g"
   ]
  },
  {
   "cell_type": "code",
   "execution_count": 3,
   "metadata": {},
   "outputs": [],
   "source": [
    "def dense(A_in, W, B):\n",
    "    Z = np.matmul(A_in, W) + B\n",
    "    A_out = g(Z)\n",
    "    return A_out"
   ]
  },
  {
   "cell_type": "code",
   "execution_count": 4,
   "metadata": {},
   "outputs": [],
   "source": [
    "X = np.array([[200, 17]]) # Now, a 2D array\n",
    "W = np.array(\n",
    "    [\n",
    "        [1, -3, 5],   # Same\n",
    "        [-2, 4, -6]\n",
    "    ])\n",
    "B = np.array([[-1, 1, 2]]) # Now, a 1x3 2D array"
   ]
  },
  {
   "cell_type": "code",
   "execution_count": 5,
   "metadata": {},
   "outputs": [
    {
     "name": "stdout",
     "output_type": "stream",
     "text": [
      "[[1.00000000e+000 7.12457641e-218 1.00000000e+000]]\n",
      "<class 'numpy.ndarray'>\n",
      "(1, 3)\n",
      "Elapsed time: 1.0001659393310547 ms\n"
     ]
    }
   ],
   "source": [
    "start = time.time()\n",
    "\n",
    "result = dense(A_in=X, W=W, B=B)\n",
    "print(result)\n",
    "print(type(result))\n",
    "print(result.shape)\n",
    "\n",
    "end = time.time()\n",
    "total = 1000 * (end - start)\n",
    "print(f\"Elapsed time: {total} ms\")"
   ]
  }
 ],
 "metadata": {
  "kernelspec": {
   "display_name": "Python 3",
   "language": "python",
   "name": "python3"
  },
  "language_info": {
   "codemirror_mode": {
    "name": "ipython",
    "version": 3
   },
   "file_extension": ".py",
   "mimetype": "text/x-python",
   "name": "python",
   "nbconvert_exporter": "python",
   "pygments_lexer": "ipython3",
   "version": "3.12.2"
  }
 },
 "nbformat": 4,
 "nbformat_minor": 2
}
