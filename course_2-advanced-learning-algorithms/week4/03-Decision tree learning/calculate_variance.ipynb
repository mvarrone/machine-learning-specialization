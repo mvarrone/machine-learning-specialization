{
 "cells": [
  {
   "cell_type": "markdown",
   "metadata": {},
   "source": [
    "## Helper notebook for calculating Sample Variance \n",
    "### Course 2, Week 4, 03-Decision tree learning, Regression Trees (optional)"
   ]
  },
  {
   "cell_type": "markdown",
   "metadata": {},
   "source": [
    "This notebook aims to be useful in order to check the values shown in lectures when showing the values for each node variance"
   ]
  },
  {
   "cell_type": "markdown",
   "metadata": {},
   "source": [
    "### Sample Variance Formula\n",
    "\n",
    "The sample variance $ s^2 $ is calculated using the formula:\n",
    "\n",
    "$$\n",
    "s^2 = \\frac{1}{n - 1} \\sum_{i=1}^{n} (x_i - \\bar{x})^2\n",
    "$$\n",
    "\n",
    "Where:\n",
    "- $ n $ is the number of data points.\n",
    "- $ x_i $ represents each individual data point.\n",
    "- $ \\bar{x} $ is the mean of the data, calculated as $ \\bar{x} = \\frac{1}{n} \\sum_{i=1}^{n} x_i $.\n",
    "- The expression $ (x_i - \\bar{x})^2 $ represents the squared difference between each data point and the mean.\n",
    "\n",
    "The sample variance divides by $ n - 1 $ instead of $ n $ to correct for bias in the estimation of the population variance from a sample.\n"
   ]
  },
  {
   "cell_type": "code",
   "execution_count": 12,
   "metadata": {},
   "outputs": [
    {
     "name": "stdout",
     "output_type": "stream",
     "text": [
      "The sample variance for Root node is: 20.51\n",
      "The sample variance for Ear shape left branch is: 1.47\n",
      "The sample variance for Ear shape right branch is: 21.87\n",
      "The sample variance for Face shape left branch is: 27.80\n",
      "The sample variance for Face shape right branch is: 1.37\n",
      "The sample variance for Whiskers left branch is: 0.75\n",
      "The sample variance for Whiskers right branch is: 23.32\n"
     ]
    }
   ],
   "source": [
    "def sample_variance(data: list[float]) -> float:\n",
    "    n = len(data)\n",
    "    mean = sum(data) / n  # Calculate the mean of the data\n",
    "    sum_of_squares = sum((x - mean) ** 2 for x in data)  # Sum of squared differences\n",
    "    variance = sum_of_squares / (n - 1)  # Divide by (n - 1) for sample variance\n",
    "\n",
    "    return variance\n",
    "\n",
    "# Data sets\n",
    "data_sets: dict[str, list[float]] = {\n",
    "    \"Root node\": [7.2, 9.2, 8.4, 7.6, 10.2, 8.8, 15, 11, 18, 20],\n",
    "    \"Ear shape left branch\": [7.2, 9.2, 8.4, 7.6, 10.2],\n",
    "    \"Ear shape right branch\": [8.8, 15, 11, 18, 20],\n",
    "    \"Face shape left branch\": [7.2, 15, 8.4, 7.6, 10.2, 18, 20],\n",
    "    \"Face shape right branch\": [8.8, 9.2, 11],\n",
    "    \"Whiskers left branch\": [7.2, 8.8, 9.2, 8.4],\n",
    "    \"Whiskers right branch\": [15, 7.6, 11, 10.2, 18, 20]\n",
    "}\n",
    "\n",
    "# Iterate through each dataset and calculate the variance\n",
    "for label, data in data_sets.items():\n",
    "    variance = sample_variance(data)\n",
    "    print(f\"The sample variance for {label} is: {variance:.2f}\")"
   ]
  },
  {
   "cell_type": "code",
   "execution_count": null,
   "metadata": {},
   "outputs": [],
   "source": []
  }
 ],
 "metadata": {
  "kernelspec": {
   "display_name": "base",
   "language": "python",
   "name": "python3"
  },
  "language_info": {
   "codemirror_mode": {
    "name": "ipython",
    "version": 3
   },
   "file_extension": ".py",
   "mimetype": "text/x-python",
   "name": "python",
   "nbconvert_exporter": "python",
   "pygments_lexer": "ipython3",
   "version": "3.11.7"
  }
 },
 "nbformat": 4,
 "nbformat_minor": 2
}
